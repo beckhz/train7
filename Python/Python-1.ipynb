{
 "cells": [
  {
   "cell_type": "markdown",
   "metadata": {},
   "source": [
    "<img src='data:image/png;base64,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'>"
   ]
  },
  {
   "cell_type": "markdown",
   "metadata": {},
   "source": [
    "\n",
    "# 机器学习集训营第七期 [@Julyedu.com七月在线 ](http://www.julyedu.com)\n",
    "## 第一阶段：零基础快速上手编程\n",
    "### 第一课  Python环境，基本类型、判断与循环流程等\n",
    "\n",
    "David@七月在线 2019-1-21"
   ]
  },
  {
   "cell_type": "markdown",
   "metadata": {},
   "source": [
    "#### 集训营整体课程路径介绍 \n",
    "\n",
    "1. Python编程基础\n",
    "- 数据处理、分析\n",
    "- 数据可视化\n",
    "- 大数据生态(Hadoop/Spark)\n",
    "- 机器学习原理\n",
    "- 机器学习实战\n",
    "- 深度学习\n",
    "- 综合项目指导"
   ]
  },
  {
   "cell_type": "markdown",
   "metadata": {},
   "source": [
    "### 本节课程目标\n",
    "\n",
    "#### 运行环境\n",
    "1. Anaconda本地环境搭建\n",
    "- Jupyter notebook及云平台的使用\n",
    "***\n",
    "#### Python基础\n",
    "1. Python简介，解释执行，与运行方式\n",
    "- 基础语法及相应帮助的使用\n",
    "- Python标识符，解除名字引用，名字空间与局部作用域L,全局作用域G\n",
    "- 标准操作符\n",
    "- Python基本数据类型(文本，字符串)与数据结构(列表 集合, 元组, 字典)\n",
    "- 声明Statement与Expression表达式\n",
    "- 判断，循环与循环控制\n",
    "- BIFs 自带电池(`__builtins__`模块)与模块作用域B\n",
    "- 异常，异常处理及调试\n",
    "\n",
    "#### 作业\n",
    "1. 完成本节课程的练习"
   ]
  },
  {
   "cell_type": "markdown",
   "metadata": {},
   "source": [
    "###  预备:Jupyter Notebook环境快速上手"
   ]
  },
  {
   "cell_type": "markdown",
   "metadata": {},
   "source": [
    "#### Anaconda Jupyter Lab环境配置，安装及使用\n",
    "\n",
    "![](http://jupyter.org/assets/main-logo.svg)\n",
    "\n",
    "\n",
    "\n",
    "#### 推荐:正常安装及启动\n",
    "- [清华镜像下载](https://mirrors.tuna.tsinghua.edu.cn/anaconda/archive/),安装\n",
    "- 命令行启动`jupyter notebook`或点击快捷图标方式启动\n",
    "\n",
    "\n",
    "#### Google免费Notebook CoLab\n",
    "https://colab.research.google.com/notebooks/welcome.ipynb#scrollTo=-Rh3-Vt9Nev9\n",
    "\n",
    "https://research.google.com/colaboratory/faq.html\n",
    "\n",
    ">**Jupyter 和 Colaboratory 有什么区别？**   \n",
    "Jupyter 是一个开放源代码项目，而 Colaboratory 是在 Jupyter 基础之上开发的。通过 Colaboratory，您可以使用 Jupyter 笔记本并与他人共享，完全不需要在您自己的计算机上下载、安装或运行任何内容，只要有浏览器就可以使用。\n",
    "\n",
    "#### Docker方式安装及启动\n",
    "\n",
    "- 安装Docker on Win/Mac/Linux   \n",
    "- 拉取镜像:`docker pull jupyter/datascience-notebook   `\n",
    "- 启动容器 `docker run -p 8888:8888 jupyter/datascience-notebook   `\n",
    "\n",
    "#### GitHub+mybinder.org配合使用"
   ]
  },
  {
   "cell_type": "markdown",
   "metadata": {},
   "source": [
    "### Notebook使用,and [More...](https://mybinder.org/v2/gh/ipython/ipython-in-depth/master?filepath=binder/Index.ipynb)\n",
    "- 目录\n",
    "- 文件新建及导入导出\n",
    "- 菜单\n",
    "- 快捷键 [esc+h]"
   ]
  },
  {
   "cell_type": "markdown",
   "metadata": {
    "ExecuteTime": {
     "end_time": "2019-01-21T08:14:19.135298Z",
     "start_time": "2019-01-21T08:14:19.103447Z"
    }
   },
   "source": [
    "### Notebook中[Cell](https://ipython.org/ipython-doc/3/notebook/nbformat.html)详解\n",
    "\n",
    "\n",
    "* Python CELL\n",
    "* Markdown CELL &* Latex in markdown cell\n",
    "* Magic"
   ]
  },
  {
   "cell_type": "markdown",
   "metadata": {
    "ExecuteTime": {
     "end_time": "2019-01-21T08:14:59.940394Z",
     "start_time": "2019-01-21T08:14:59.836685Z"
    }
   },
   "source": [
    "#### Python Cell"
   ]
  },
  {
   "cell_type": "code",
   "execution_count": 4,
   "metadata": {
    "ExecuteTime": {
     "end_time": "2019-01-21T08:15:42.238901Z",
     "start_time": "2019-01-21T08:15:42.191472Z"
    }
   },
   "outputs": [
    {
     "name": "stdout",
     "output_type": "stream",
     "text": [
      "julyedu.com\n"
     ]
    }
   ],
   "source": [
    "print('julyedu.com')"
   ]
  },
  {
   "cell_type": "markdown",
   "metadata": {},
   "source": [
    "#### Markdown CELL &* Latex in markdown cell\n",
    "\n",
    "LaTeX实现的原理类似于HTML，Notebook中的Markdown格式解释器中内置Latex渲染器，可以将由\\$与\\$包裹的内容进行渲染并产生最终效果。\n",
    "\n",
    "\n",
    "##### 希腊字母   \n",
    "|希腊字母小写/大写|LaTeX形式|希腊字母小写/大写|LaTeX形式|\n",
    "|:---|:---|:---|:---|\n",
    "|α A|\\alpha A\t|μ N|\t\\mu N|\n",
    "|β B|\\beta B|ξ Ξ|\\xi \\Xi|\n",
    "|γ Γ\t|\\gamma \\Gamma\t|o O|o O|\n",
    "|δ Δ\t|\\delta \\ Delta\t|π Π|\t\\pi \\Pi|\n",
    "|ϵ ε E\t|\\epsilon \\varepsilon E\t|ρ ϱ P\t|\\rho \\varrho P|\n",
    "|ζ Z\t|\\zeta Z\t|σ Σ|\t\\sigma \\Sigma|\n",
    "|η H\t|\\eta H\t|τ T\t|\\tau T|\n",
    "|θ ϑ Θ\t|\\theta \\vartheta \\Theta|\tυ Υ|\t\\upsilon \\Upsilon|\n",
    "|ι I\t|\\iota I\t|ϕ φ Φ|\t\\phi \\varphi \\Phi|\n",
    "|κ K\t|\\kappa K\t|χ X\t|\\chi X|\n",
    "|λ Λ\t|\\lambda \\Lambda\t|ψ Ψ|\t\\psi \\Psi|\n",
    "\n",
    "##### 不同字体\n",
    "mathbb:$\\mathbb{ABCDEFGHIJKLMNOPQRSTUVWXYZ,abcdefghijklmnopqrstuvwxyz}$   \n",
    "mathscr:$\\mathscr{ABCDEFGHIJKLMNOPQRSTUVWXYZ,abcdefghijklmnopqrstuvwxyz}$   \n",
    "mathcal:$\\mathcal{ABCDEFGHIJKLMNOPQRSTUVWXYZ,abcdefghijklmnopqrstuvwxyz}$   \n",
    "mathbf:$\\mathbf{ABCDEFGHIJKLMNOPQRSTUVWXYZ,abcdefghijklmnopqrstuvwxyz}$\n",
    "\n",
    "##### 取消默认斜体\n",
    "默认倾斜：$ x_{z}$   \n",
    "取消默认倾斜$\\rm x_{z}$\n",
    "##### 特殊符号\n",
    "$\\bigcap_{i=1}^{n} \\bigcup_{i=1}^n  \\binom{5}{3}$   \n",
    "$\\forall$- 全称量词,表示任意的，$\\exists$- 存在量词,表示存在/至少一个   \n",
    "$\\partial$ 偏导符号， $\\propto$ 正比符号，$\\mathop{\\lim}_{n \\to \\infty }f(x)$无穷符号及极限\n",
    "\n",
    "##### 简单公式\n",
    ">$y=x^2$\n",
    "\n",
    ">$$e^{i\\pi} + 1 = 0$$\n",
    "\n",
    ">$e^x=\\sum_{i=0}^\\infty \\frac{1}{i!}x^i$\n",
    "\n",
    ">独占一行：$$\\frac{n!}{k!(n-k)!} = {n \\choose k}$$\n",
    "\n",
    "##### 矩阵\n",
    "$A_{m,n} =\n",
    " \\begin{pmatrix}\n",
    "  a_{1,1} & a_{1,2} & \\cdots & a_{1,n} \\\\\n",
    "  a_{2,1} & a_{2,2} & \\cdots & a_{2,n} \\\\\n",
    "  \\vdots  & \\vdots  & \\ddots & \\vdots  \\\\\n",
    "  a_{m,1} & a_{m,2} & \\cdots & a_{m,n}\n",
    " \\end{pmatrix}$"
   ]
  },
  {
   "cell_type": "markdown",
   "metadata": {},
   "source": [
    "#### Notebook中的Magic开关\n",
    "- 为实现一些快捷操作，提升效率。Notebook中提供了Magic开关，能极大得优化我们使用Notebook的体验。\n",
    "- Magic 开关分为两大类：%line magic & %%cell magic"
   ]
  },
  {
   "cell_type": "markdown",
   "metadata": {},
   "source": [
    "#### Magic开关总览"
   ]
  },
  {
   "cell_type": "code",
   "execution_count": 1,
   "metadata": {
    "ExecuteTime": {
     "end_time": "2019-01-21T12:33:10.330407Z",
     "start_time": "2019-01-21T12:33:10.295472Z"
    }
   },
   "outputs": [],
   "source": [
    "%quickref"
   ]
  },
  {
   "cell_type": "code",
   "execution_count": 2,
   "metadata": {
    "ExecuteTime": {
     "end_time": "2019-01-21T12:34:39.639039Z",
     "start_time": "2019-01-21T12:34:39.564624Z"
    }
   },
   "outputs": [
    {
     "data": {
      "application/json": {
       "cell": {
        "!": "OSMagics",
        "HTML": "Other",
        "SVG": "Other",
        "bash": "Other",
        "capture": "ExecutionMagics",
        "debug": "ExecutionMagics",
        "file": "Other",
        "html": "DisplayMagics",
        "javascript": "DisplayMagics",
        "js": "DisplayMagics",
        "latex": "DisplayMagics",
        "markdown": "DisplayMagics",
        "perl": "Other",
        "prun": "ExecutionMagics",
        "pypy": "Other",
        "python": "Other",
        "python2": "Other",
        "python3": "Other",
        "ruby": "Other",
        "script": "ScriptMagics",
        "sh": "Other",
        "svg": "DisplayMagics",
        "sx": "OSMagics",
        "system": "OSMagics",
        "time": "ExecutionMagics",
        "timeit": "ExecutionMagics",
        "writefile": "OSMagics"
       },
       "line": {
        "alias": "OSMagics",
        "alias_magic": "BasicMagics",
        "autoawait": "AsyncMagics",
        "autocall": "AutoMagics",
        "automagic": "AutoMagics",
        "autosave": "KernelMagics",
        "bookmark": "OSMagics",
        "cat": "Other",
        "cd": "OSMagics",
        "clear": "KernelMagics",
        "colors": "BasicMagics",
        "config": "ConfigMagics",
        "connect_info": "KernelMagics",
        "cp": "Other",
        "debug": "ExecutionMagics",
        "dhist": "OSMagics",
        "dirs": "OSMagics",
        "doctest_mode": "BasicMagics",
        "ed": "Other",
        "edit": "KernelMagics",
        "env": "OSMagics",
        "gui": "BasicMagics",
        "hist": "Other",
        "history": "HistoryMagics",
        "killbgscripts": "ScriptMagics",
        "ldir": "Other",
        "less": "KernelMagics",
        "lf": "Other",
        "lk": "Other",
        "ll": "Other",
        "load": "CodeMagics",
        "load_ext": "ExtensionMagics",
        "loadpy": "CodeMagics",
        "logoff": "LoggingMagics",
        "logon": "LoggingMagics",
        "logstart": "LoggingMagics",
        "logstate": "LoggingMagics",
        "logstop": "LoggingMagics",
        "ls": "Other",
        "lsmagic": "BasicMagics",
        "lx": "Other",
        "macro": "ExecutionMagics",
        "magic": "BasicMagics",
        "man": "KernelMagics",
        "matplotlib": "PylabMagics",
        "mkdir": "Other",
        "more": "KernelMagics",
        "mv": "Other",
        "notebook": "BasicMagics",
        "page": "BasicMagics",
        "pastebin": "CodeMagics",
        "pdb": "ExecutionMagics",
        "pdef": "NamespaceMagics",
        "pdoc": "NamespaceMagics",
        "pfile": "NamespaceMagics",
        "pinfo": "NamespaceMagics",
        "pinfo2": "NamespaceMagics",
        "pip": "BasicMagics",
        "popd": "OSMagics",
        "pprint": "BasicMagics",
        "precision": "BasicMagics",
        "prun": "ExecutionMagics",
        "psearch": "NamespaceMagics",
        "psource": "NamespaceMagics",
        "pushd": "OSMagics",
        "pwd": "OSMagics",
        "pycat": "OSMagics",
        "pylab": "PylabMagics",
        "qtconsole": "KernelMagics",
        "quickref": "BasicMagics",
        "recall": "HistoryMagics",
        "rehashx": "OSMagics",
        "reload_ext": "ExtensionMagics",
        "rep": "Other",
        "rerun": "HistoryMagics",
        "reset": "NamespaceMagics",
        "reset_selective": "NamespaceMagics",
        "rm": "Other",
        "rmdir": "Other",
        "run": "ExecutionMagics",
        "save": "CodeMagics",
        "sc": "OSMagics",
        "set_env": "OSMagics",
        "store": "StoreMagics",
        "sx": "OSMagics",
        "system": "OSMagics",
        "tb": "ExecutionMagics",
        "time": "ExecutionMagics",
        "timeit": "ExecutionMagics",
        "unalias": "OSMagics",
        "unload_ext": "ExtensionMagics",
        "who": "NamespaceMagics",
        "who_ls": "NamespaceMagics",
        "whos": "NamespaceMagics",
        "xdel": "NamespaceMagics",
        "xmode": "BasicMagics"
       }
      },
      "text/plain": [
       "Available line magics:\n",
       "%alias  %alias_magic  %autoawait  %autocall  %automagic  %autosave  %bookmark  %cat  %cd  %clear  %colors  %config  %connect_info  %cp  %debug  %dhist  %dirs  %doctest_mode  %ed  %edit  %env  %gui  %hist  %history  %killbgscripts  %ldir  %less  %lf  %lk  %ll  %load  %load_ext  %loadpy  %logoff  %logon  %logstart  %logstate  %logstop  %ls  %lsmagic  %lx  %macro  %magic  %man  %matplotlib  %mkdir  %more  %mv  %notebook  %page  %pastebin  %pdb  %pdef  %pdoc  %pfile  %pinfo  %pinfo2  %popd  %pprint  %precision  %prun  %psearch  %psource  %pushd  %pwd  %pycat  %pylab  %qtconsole  %quickref  %recall  %rehashx  %reload_ext  %rep  %rerun  %reset  %reset_selective  %rm  %rmdir  %run  %save  %sc  %set_env  %store  %sx  %system  %tb  %time  %timeit  %unalias  %unload_ext  %who  %who_ls  %whos  %xdel  %xmode\n",
       "\n",
       "Available cell magics:\n",
       "%%!  %%HTML  %%SVG  %%bash  %%capture  %%debug  %%file  %%html  %%javascript  %%js  %%latex  %%markdown  %%perl  %%prun  %%pypy  %%python  %%python2  %%python3  %%ruby  %%script  %%sh  %%svg  %%sx  %%system  %%time  %%timeit  %%writefile\n",
       "\n",
       "Automagic is ON, % prefix IS NOT needed for line magics."
      ]
     },
     "execution_count": 2,
     "metadata": {},
     "output_type": "execute_result"
    }
   ],
   "source": [
    "%lsmagic"
   ]
  },
  {
   "cell_type": "markdown",
   "metadata": {},
   "source": [
    "##### line magic"
   ]
  },
  {
   "cell_type": "code",
   "execution_count": 12,
   "metadata": {
    "ExecuteTime": {
     "end_time": "2019-01-21T12:37:27.635607Z",
     "start_time": "2019-01-21T12:37:27.542598Z"
    }
   },
   "outputs": [
    {
     "data": {
      "text/plain": [
       "1"
      ]
     },
     "execution_count": 12,
     "metadata": {},
     "output_type": "execute_result"
    },
    {
     "data": {
      "text/plain": [
       "2"
      ]
     },
     "execution_count": 12,
     "metadata": {},
     "output_type": "execute_result"
    },
    {
     "data": {
      "text/plain": [
       "5"
      ]
     },
     "execution_count": 12,
     "metadata": {},
     "output_type": "execute_result"
    }
   ],
   "source": [
    "a=1\n",
    "b=2\n",
    "c=5\n",
    "a\n",
    "b\n",
    "c\n",
    "def e():\n",
    "    pass"
   ]
  },
  {
   "cell_type": "code",
   "execution_count": 19,
   "metadata": {},
   "outputs": [
    {
     "name": "stdout",
     "output_type": "stream",
     "text": [
      "Pretty printing has been turned OFF\n"
     ]
    }
   ],
   "source": [
    "%config ZMQInteractiveShell.ast_node_interactivity='all'\n",
    "%pprint"
   ]
  },
  {
   "cell_type": "code",
   "execution_count": 20,
   "metadata": {},
   "outputs": [
    {
     "data": {
      "text/plain": [
       "2"
      ]
     },
     "execution_count": 20,
     "metadata": {},
     "output_type": "execute_result"
    },
    {
     "data": {
      "text/plain": [
       "4"
      ]
     },
     "execution_count": 20,
     "metadata": {},
     "output_type": "execute_result"
    },
    {
     "data": {
      "text/plain": [
       "2"
      ]
     },
     "execution_count": 20,
     "metadata": {},
     "output_type": "execute_result"
    },
    {
     "data": {
      "text/plain": [
       "4"
      ]
     },
     "execution_count": 20,
     "metadata": {},
     "output_type": "execute_result"
    },
    {
     "name": "stdout",
     "output_type": "stream",
     "text": [
      "Variable   Type      Data/Info\n",
      "------------------------------\n",
      "a          int       2\n",
      "b          int       0\n",
      "i          int       0\n",
      "n          int       4\n",
      "os         module    <module 'os' from '/srv/c<...>nda/lib/python3.6/os.py'>\n",
      "pdb        module    <module 'pdb' from '/srv/<...>da/lib/python3.6/pdb.py'>\n",
      "sys        module    <module 'sys' (built-in)>\n"
     ]
    }
   ],
   "source": [
    "a=2\n",
    "n=4\n",
    "a\n",
    "n\n",
    "a\n",
    "n\n",
    "%whos"
   ]
  },
  {
   "cell_type": "code",
   "execution_count": 1,
   "metadata": {},
   "outputs": [
    {
     "data": {
      "image/png": "[encoded data removed]",
      "text/plain": [
       "<Figure size 432x288 with 1 Axes>"
      ]
     },
     "metadata": {
      "needs_background": "light"
     },
     "output_type": "display_data"
    }
   ],
   "source": [
    "%matplotlib inline\n",
    "import numpy as np\n",
    "from matplotlib import pyplot as plt\n",
    "\n",
    "ys = 200 + np.random.randn(100)\n",
    "x = [x for x in range(len(ys))]\n",
    "\n",
    "plt.plot(x, ys, '-')\n",
    "plt.fill_between(x, ys, 195, where=(ys > 195), facecolor='g', alpha=0.6)\n",
    "\n",
    "plt.title(\"Fills and Alpha Example\")\n",
    "plt.show()"
   ]
  },
  {
   "cell_type": "markdown",
   "metadata": {},
   "source": [
    "##### cell magic"
   ]
  },
  {
   "cell_type": "code",
   "execution_count": 18,
   "metadata": {
    "ExecuteTime": {
     "end_time": "2019-01-21T12:40:05.032054Z",
     "start_time": "2019-01-21T12:40:04.962891Z"
    },
    "scrolled": true
   },
   "outputs": [
    {
     "data": {
      "text/html": [
       "<b>print('this is python3')</b>\n",
       "<hr>\n"
      ],
      "text/plain": [
       "<IPython.core.display.HTML object>"
      ]
     },
     "metadata": {},
     "output_type": "display_data"
    }
   ],
   "source": [
    "%%html\n",
    "<b>print('this is python3')</b>\n",
    "<hr>"
   ]
  },
  {
   "cell_type": "code",
   "execution_count": 19,
   "metadata": {
    "ExecuteTime": {
     "end_time": "2019-01-21T12:40:16.368093Z",
     "start_time": "2019-01-21T12:40:16.114031Z"
    },
    "scrolled": true
   },
   "outputs": [
    {
     "name": "stdout",
     "output_type": "stream",
     "text": [
      "this is python2\n"
     ]
    }
   ],
   "source": [
    "%%python2\n",
    "\n",
    "print 'this is python2'"
   ]
  },
  {
   "cell_type": "code",
   "execution_count": 22,
   "metadata": {
    "ExecuteTime": {
     "end_time": "2019-01-21T12:41:46.030448Z",
     "start_time": "2019-01-21T12:41:45.968782Z"
    }
   },
   "outputs": [
    {
     "name": "stdout",
     "output_type": "stream",
     "text": [
      "Writing a.py\n"
     ]
    }
   ],
   "source": [
    "%%writefile a.py\n",
    "\n",
    "for item in range(10):\n",
    "    print(item)"
   ]
  },
  {
   "cell_type": "code",
   "execution_count": 23,
   "metadata": {
    "ExecuteTime": {
     "end_time": "2019-01-21T12:42:29.081794Z",
     "start_time": "2019-01-21T12:42:27.382372Z"
    }
   },
   "outputs": [
    {
     "name": "stdout",
     "output_type": "stream",
     "text": [
      "1.89 µs ± 98.4 ns per loop (mean ± std. dev. of 7 runs, 100000 loops each)\n"
     ]
    }
   ],
   "source": [
    "%%timeit 50\n",
    "for item in range(100):\n",
    "    a=item\n",
    "    del a"
   ]
  },
  {
   "cell_type": "code",
   "execution_count": 21,
   "metadata": {
    "ExecuteTime": {
     "end_time": "2019-01-21T12:41:11.048897Z",
     "start_time": "2019-01-21T12:41:10.954695Z"
    }
   },
   "outputs": [
    {
     "data": {
      "image/svg+xml": [
       "<svg height=\"200\" viewBox=\"0 0 450 400\" width=\"500\" xmlns=\"http://www.w3.org/2000/svg\">\n",
       "  <rect height=\"250\" rx=\"20\" style=\"fill:red; stroke:black; fill-opacity:0.7\" width=\"250\" x=\"80\" y=\"60\"/>\n",
       "  <rect height=\"250\" rx=\"40\" style=\"fill:blue; stroke:black; fill-opacity:0.5;\" width=\"250\" x=\"280\" y=\"110\"/>\n",
       "</svg>"
      ],
      "text/plain": [
       "<IPython.core.display.SVG object>"
      ]
     },
     "metadata": {},
     "output_type": "display_data"
    }
   ],
   "source": [
    "%%SVG\n",
    "<svg xmlns=\"http://www.w3.org/2000/svg\" viewBox=\"0 0 450 400\" width=\"500\" height=\"200\">\n",
    "  <rect x=\"80\" y=\"60\" width=\"250\" height=\"250\" rx=\"20\" style=\"fill:red; stroke:black; fill-opacity:0.7\" />\n",
    "  <rect x=\"280\" y=\"110\" width=\"250\" height=\"250\" rx=\"40\" style=\"fill:blue; stroke:black; fill-opacity:0.5;\" />\n",
    "</svg>"
   ]
  },
  {
   "cell_type": "markdown",
   "metadata": {},
   "source": [
    "#### Jupyter notebook扩展"
   ]
  },
  {
   "cell_type": "markdown",
   "metadata": {},
   "source": [
    "##### Jupyter Lab\n",
    "Notebook的更友好版本\n",
    "\n",
    "##### Jupyter notebook功能扩展Nbextensions   \n",
    "`python -m pip install jupyter_contrib_nbextensions`   \n",
    "`jupyter contrib nbextension install --user --skip-running-check  `\n",
    "\n",
    "##### 添加对R语言的支持\n",
    "\n",
    "在安装完R后，进行`conda install -c r r-essentials`，再新建notebook测试\n",
    "\n",
    "\n",
    "##### 添加对Julia语言的支持\n",
    "\n",
    "先安装Julia,运行Julia，`using Pkg;Pkg.add('IJulia');using IJulia;notebook()`即可\n",
    "\n",
    "##### 添加对C的支持\n",
    "[Try it Online ](https://hub.mybinder.org/user/quantstack-xeus-cling-vb1jmxpx/notebooks/notebooks/xcpp.ipynb)"
   ]
  },
  {
   "cell_type": "markdown",
   "metadata": {},
   "source": [
    "### 1. Python简介，解释执行，运行方式\n",
    "\n",
    "#### Python简介\n",
    "<img src='data:image/jpeg;base64,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'>\n",
    "\n",
    "#### Python源码目录结构\n",
    " - Include： 这个目录包括了 Python 的所有头文件。\n",
    " - Lib：这里是 Python 标准库，都是用 Python 实现的。\n",
    " - Modules：用 C 语言编写的模块，比如 cStringIO / tkinter 高性能实现\n",
    " - Objects：Python 内建对象，如 int / list 的实现\n",
    " - Parser：Python 解释器的 Scanner 和 Parser\n",
    " - Python：Python 解释器的 Compiler 和执行引擎，运行核心\n",
    " \n",
    "\n",
    " \n",
    "### Python解释与运行\n",
    "\n",
    "\n",
    "Python解释器interpreter\n",
    ">运行在系统线程上的C语言函数+超大循环。每个字节码指令均对应一个完全由C实现的逻辑。\n",
    "\n",
    "\n",
    "Python解释器在执行过程\n",
    ">先对文件中的Python源代码进行编译，编译的主要结果是产生的一组Python的字节码（byte code），pyc文件是字节码在磁盘上的表现形式，是进行import module时对py文件进行编译的文件结果（如果之前编译过，且源文件又没有变化，则直接运行该pyc文件），而编译结果就是Python中的PyCodeObject对象，然后PyCodeObject对象交给Python虚拟机（Virtual Machine），由虚拟机按照顺序一条一条地执行字节码，从而完成对Python程序的执行动作。\n",
    "\n",
    "\n",
    "> python： .py  -->(编译器)-->.pyc-->解释器(虚拟机)-->返回结果   \n",
    "\n",
    "> 在编译好的Python环境中，编译器和解释器都被封装进了python36.dll中，由python.exe调用"
   ]
  },
  {
   "cell_type": "markdown",
   "metadata": {},
   "source": [
    "#### 延伸阅读：Python解释器\n",
    "\n",
    "默认用到的都是用C语言实现的对Python的解释器CPython。也有用Python实现的python解释器PyPy,.Net实现的IronPython\n",
    "\n",
    "- CPython解释器中的两个栈：   \n",
    "   1. 执行栈Evaluation Stack:存储指令操作数   \n",
    "   2. 块栈Block Stack：存储循环，异常等信息   \n",
    "\n",
    "字码基于栈式虚拟机，没有寄存器概念，转译简单，没有另类优化。不能被CPU执行，每条字节码对应C实现的机器指令。   \n",
    "Python 实现了栈式虚拟机 (Stack-Based VM) 架构，通过与机器⽆关的字节码来实现跨平台执⾏能⼒。   \n",
    "这种字节码指令集没有寄存器，完全以栈 (抽象层⾯) 进⾏指令运算。"
   ]
  },
  {
   "cell_type": "code",
   "execution_count": 26,
   "metadata": {
    "scrolled": true
   },
   "outputs": [
    {
     "name": "stdout",
     "output_type": "stream",
     "text": [
      "56\n"
     ]
    },
    {
     "data": {
      "text/plain": [
       "(8, None)"
      ]
     },
     "execution_count": 26,
     "metadata": {},
     "output_type": "execute_result"
    },
    {
     "data": {
      "text/plain": [
       "<code object <module> at 0x7fdea0d37e40, file \"test_compile.py\", line 3>"
      ]
     },
     "execution_count": 26,
     "metadata": {},
     "output_type": "execute_result"
    },
    {
     "data": {
      "text/plain": [
       "b'd\\x00Z\\x00d\\x01d\\x02\\x84\\x00Z\\x01d\\x03d\\x04\\x84\\x00Z\\x02d\\x05S\\x00'"
      ]
     },
     "execution_count": 26,
     "metadata": {},
     "output_type": "execute_result"
    },
    {
     "data": {
      "text/plain": [
       "['__repr__', '__hash__', '__getattribute__', '__lt__', '__le__', '__eq__', '__ne__', '__gt__', '__ge__', '__new__', '__sizeof__', 'co_argcount', 'co_kwonlyargcount', 'co_nlocals', 'co_stacksize', 'co_flags', 'co_code', 'co_consts', 'co_names', 'co_varnames', 'co_freevars', 'co_cellvars', 'co_filename', 'co_name', 'co_firstlineno', 'co_lnotab', '__doc__', '__str__', '__setattr__', '__delattr__', '__init__', '__reduce_ex__', '__reduce__', '__subclasshook__', '__init_subclass__', '__format__', '__dir__', '__class__']"
      ]
     },
     "execution_count": 26,
     "metadata": {},
     "output_type": "execute_result"
    },
    {
     "data": {
      "text/plain": [
       "2"
      ]
     },
     "execution_count": 26,
     "metadata": {},
     "output_type": "execute_result"
    },
    {
     "data": {
      "text/plain": [
       "('c', 'x')"
      ]
     },
     "execution_count": 26,
     "metadata": {},
     "output_type": "execute_result"
    },
    {
     "data": {
      "text/plain": [
       "2"
      ]
     },
     "execution_count": 26,
     "metadata": {},
     "output_type": "execute_result"
    }
   ],
   "source": [
    "#1.命令行使用python直接运行py文件\n",
    "#在notebook的cell中，可以在!后输入系统命令，而不用转去命令行\n",
    "#如!python,!dir  调用系统的程序\n",
    "\n",
    "#2.内置函数compile可以编译Python代码\n",
    "#source_code为py源文件内容\n",
    "source_code=\\\n",
    "'''\n",
    "#this is documents\n",
    "base_string='julyedu.com'\n",
    "\n",
    "def test1(a,b):\n",
    " return a+b\n",
    "\n",
    "def test2(c):\n",
    " x=7\n",
    " print(c**2+x)\n",
    "'''\n",
    "\n",
    "co=compile(source_code,'test_compile.py','exec')\n",
    "exec(co)#类似于import test_compile.py\n",
    "\n",
    "test1(2,6),test2(7)#可以看到test1,test2名称已经导入当前名字空间\n",
    "\n",
    "co#module's PyCodeObject\n",
    "#co_code是指令序列，是一串二进制流，co_code只含有指令而不包含其它数据，如变量名、常量，数据放在别的区域里。\n",
    "#opcode-“字节码”:指令以字节为单位，最多表示256个不同的字节码指令。\n",
    "co.co_code\n",
    "\n",
    "co.__dir__()\n",
    "\n",
    "test1.__code__.co_argcount\n",
    "test2.__code__.co_varnames\n",
    "test2.__code__.co_nlocals"
   ]
  },
  {
   "cell_type": "markdown",
   "metadata": {},
   "source": [
    "##### 延伸阅读：使用Disassembler反汇编模块解读code\n",
    "- 文档： https://docs.python.org/3/library/dis.html"
   ]
  },
  {
   "cell_type": "code",
   "execution_count": 27,
   "metadata": {
    "scrolled": true
   },
   "outputs": [
    {
     "name": "stdout",
     "output_type": "stream",
     "text": [
      "  3           0 LOAD_CONST               0 ('julyedu.com')\n",
      "              2 STORE_NAME               0 (base_string)\n",
      "\n",
      "  5           4 LOAD_CONST               1 (<code object test1 at 0x7fdea0d37d20, file \"test_compile.py\", line 5>)\n",
      "              6 LOAD_CONST               2 ('test1')\n",
      "              8 MAKE_FUNCTION            0\n",
      "             10 STORE_NAME               1 (test1)\n",
      "\n",
      "  8          12 LOAD_CONST               3 (<code object test2 at 0x7fdea0d37b70, file \"test_compile.py\", line 8>)\n",
      "             14 LOAD_CONST               4 ('test2')\n",
      "             16 MAKE_FUNCTION            0\n",
      "             18 STORE_NAME               2 (test2)\n",
      "             20 LOAD_CONST               5 (None)\n",
      "             22 RETURN_VALUE\n"
     ]
    }
   ],
   "source": [
    "import dis\n",
    "dis.dis(co)#反汇编module test_compile\n",
    "# dis.dis(test1),dis.dis(test2)#反汇编module test_compile下的函数"
   ]
  },
  {
   "cell_type": "markdown",
   "metadata": {},
   "source": [
    "##### 延伸阅读：Disassembler格式及解读\n",
    "\n",
    "- 第一列表示以下几个指令在py文件中的行号;\n",
    "- 第二列是该指令在指令序列co_code里的偏移量;\n",
    "- 第三列是指令opcode的名称，分为有操作数和无操作数两种，opcode在指令序列中是一个字节的整数;\n",
    "- 第四列是操作数oparg，在指令序列中占两个字节，基本都是co_consts或者co_names的下标;\n",
    "- 第五列带括号的是操作数说明。\n",
    "\n",
    "|opcode|oparg|opcode|opcode|oparg|\n",
    "|:---|:---|:---|:---|:---|\n",
    "|1 byte|2 bytes|1 byte|1 byte|2 bytes|\n",
    "\n"
   ]
  },
  {
   "cell_type": "markdown",
   "metadata": {},
   "source": [
    "#### Python的两种运行方式\n",
    "##### 1.解释运行：如PyCharme\n",
    "- 下方新建py文件"
   ]
  },
  {
   "cell_type": "code",
   "execution_count": 28,
   "metadata": {
    "scrolled": true
   },
   "outputs": [
    {
     "name": "stdout",
     "output_type": "stream",
     "text": [
      "Writing test.py\n"
     ]
    }
   ],
   "source": [
    "%%writefile test.py\n",
    "import sys\n",
    "print(f'the file run name {sys.argv[0]}')\n",
    "for i in range(int(sys.argv[1])):\n",
    "    print(i,'times run')"
   ]
  },
  {
   "cell_type": "code",
   "execution_count": 29,
   "metadata": {
    "scrolled": true
   },
   "outputs": [
    {
     "name": "stdout",
     "output_type": "stream",
     "text": [
      "the file run name test.py\r\n",
      "0 times run\r\n",
      "1 times run\r\n"
     ]
    }
   ],
   "source": [
    "!python test.py 2 "
   ]
  },
  {
   "cell_type": "markdown",
   "metadata": {},
   "source": [
    "##### 2.交互运行\n",
    "- cmd ,ipython, notebook"
   ]
  },
  {
   "cell_type": "markdown",
   "metadata": {},
   "source": [
    "#### 延伸阅读 PyCodeObject `<module> `\n",
    "\n",
    "对Python编译器来说，PyCodeObject对象是其真正的编译结果，而pyc文件只是对象持久化表现形式  \n",
    "\n",
    "\n",
    "Python程序的字节码在运行时以PyStringObject的形式保存在PyCodeObject的co_code域里。co_code域只含有指令而不包含别的程序数据；变量名、常量等数据均放在别的域里。"
   ]
  },
  {
   "cell_type": "markdown",
   "metadata": {},
   "source": [
    "### 基础语法及相关帮助的使用"
   ]
  },
  {
   "cell_type": "code",
   "execution_count": 30,
   "metadata": {
    "scrolled": true
   },
   "outputs": [
    {
     "name": "stdout",
     "output_type": "stream",
     "text": [
      "hello,python\n",
      "hello!\n",
      "hello,\n",
      " python\n",
      "hello,\" python\n",
      "在线课程：1-基本python类型、判断与循环流程等\n",
      "在线实训：2-python基本练习题\n",
      "在线课程：3-文件/数据读写、面向对象、第三方库等\n",
      "在线实训：4-多种数据读写与面向对象练习\n",
      "线下实训：5-python基本练习题 与 google python实战题\n",
      "I' am 007\n",
      "hello\n",
      "python!\n",
      "welcome to julyedu.com\n",
      "['__add__', '__class__', '__contains__', '__delattr__', '__dir__', '__doc__', '__eq__', '__format__', '__ge__', '__getattribute__', '__getitem__', '__getnewargs__', '__gt__', '__hash__', '__init__', '__init_subclass__', '__iter__', '__le__', '__len__', '__lt__', '__mod__', '__mul__', '__ne__', '__new__', '__reduce__', '__reduce_ex__', '__repr__', '__rmod__', '__rmul__', '__setattr__', '__sizeof__', '__str__', '__subclasshook__', 'capitalize', 'casefold', 'center', 'count', 'encode', 'endswith', 'expandtabs', 'find', 'format', 'format_map', 'index', 'isalnum', 'isalpha', 'isdecimal', 'isdigit', 'isidentifier', 'islower', 'isnumeric', 'isprintable', 'isspace', 'istitle', 'isupper', 'join', 'ljust', 'lower', 'lstrip', 'maketrans', 'partition', 'replace', 'rfind', 'rindex', 'rjust', 'rpartition', 'rsplit', 'rstrip', 'split', 'splitlines', 'startswith', 'strip', 'swapcase', 'title', 'translate', 'upper', 'zfill']\n",
      "str(object='') -> str\n",
      "str(bytes_or_buffer[, encoding[, errors]]) -> str\n",
      "\n",
      "Create a new string object from the given object. If encoding or\n",
      "errors is specified, then the object must expose a data buffer\n",
      "that will be decoded using the given encoding and error handler.\n",
      "Otherwise, returns the result of object.__str__() (if defined)\n",
      "or repr(object).\n",
      "encoding defaults to sys.getdefaultencoding().\n",
      "errors defaults to 'strict'.\n"
     ]
    }
   ],
   "source": [
    "# 注释与多行注释\n",
    "print('hello,python')\n",
    "print('hello!')\n",
    "\n",
    "#\\反斜线\n",
    "#/斜线\n",
    "\n",
    "#代码分隔\\\n",
    "source_code=\\\n",
    "'''\n",
    "base_string='julyedu.com'\n",
    "\n",
    "def test1(a,b):\n",
    " return a+b\n",
    "\n",
    "def test2(c):\n",
    " x=7\n",
    " print(c**2+x)\n",
    "'''\n",
    "\n",
    "\n",
    "\n",
    "#文本\n",
    "print('hello,\\n python')\n",
    "\n",
    "print('hello,\" python')\n",
    "\n",
    "#单行与多行文本的初始化\n",
    "str1=\"julyedu.com\"\n",
    "\n",
    "str2='''在线课程：1-基本python类型、判断与循环流程等\n",
    "在线实训：2-python基本练习题\n",
    "在线课程：3-文件/数据读写、面向对象、第三方库等\n",
    "在线实训：4-多种数据读写与面向对象练习\n",
    "线下实训：5-python基本练习题 与 google python实战题'''\n",
    "\n",
    "print(str2)\n",
    "\n",
    "#文本转义\n",
    "print('I\\' am 007')\n",
    "\n",
    "\n",
    "#一行写多行python代码;\n",
    "print('hello');print('python!')\n",
    "\n",
    "\n",
    "# 缩进 PEP8   https://www.python.org/dev/peps/pep-0008/\n",
    "# PEP是Python Enhancement Proposals的缩写。\n",
    "# 一个PEP是一份为Python社区提供各种增强功能的技术规格，也是提交新特性，以便让社区指出问题，精确化技术文档的提案。\n",
    "\n",
    "#分隔代码块:\n",
    "\n",
    "title='Julyedu.com';score=61\n",
    "\n",
    "if title=='Julyedu.com':\n",
    "    print('welcome to julyedu.com')\n",
    "    if score<60:\n",
    "        pass\n",
    "\n",
    "#空行 pass\n",
    "# def myfunc():\n",
    "#     pass\n",
    "\n",
    "#模块\n",
    "import random\n",
    "# dir(random)\n",
    "\n",
    "#帮助的使用\n",
    "#dir,help,?,??,shift+tab,tab,相关Python的小抄\n",
    "s1='china'\n",
    "print(dir(s1))\n",
    "print(s1.__doc__)\n",
    "s1.rfind?"
   ]
  },
  {
   "cell_type": "code",
   "execution_count": 31,
   "metadata": {},
   "outputs": [
    {
     "data": {
      "text/plain": [
       "['__doc__', '__file__', '__loader__', '__name__', '__package__', '__spec__', 'acos', 'acosh', 'asin', 'asinh', 'atan', 'atan2', 'atanh', 'ceil', 'copysign', 'cos', 'cosh', 'degrees', 'e', 'erf', 'erfc', 'exp', 'expm1', 'fabs', 'factorial', 'floor', 'fmod', 'frexp', 'fsum', 'gamma', 'gcd', 'hypot', 'inf', 'isclose', 'isfinite', 'isinf', 'isnan', 'ldexp', 'lgamma', 'log', 'log10', 'log1p', 'log2', 'modf', 'nan', 'pi', 'pow', 'radians', 'sin', 'sinh', 'sqrt', 'tan', 'tanh', 'tau', 'trunc']"
      ]
     },
     "execution_count": 31,
     "metadata": {},
     "output_type": "execute_result"
    },
    {
     "data": {
      "text/plain": [
       "3.141592653589793"
      ]
     },
     "execution_count": 31,
     "metadata": {},
     "output_type": "execute_result"
    }
   ],
   "source": [
    "import math\n",
    "dir(math)\n",
    "math.pi"
   ]
  },
  {
   "cell_type": "markdown",
   "metadata": {},
   "source": [
    "### Python标识符，解除名字引用，名字空间与局部作用域L,全局作用域G\n",
    "\n",
    "#### 合法标识符\n",
    "- 数字，下划线，字母构成\n",
    "- 避开关键字\n",
    "- 不能用数字开头\n",
    "```\n",
    "如以下标识符取名错误\n",
    "for='julyedu.com'\n",
    "7a=8\n",
    "str='七月在线'\n",
    "```\n",
    "\n",
    "#### 好的命名习惯让开发更有效率\n",
    "- 变量，函数或方法:salary,houseworker,booksname   \n",
    "- 常量：INTEREST_RATES   \n",
    "- 类：BankAccount,Employee,Company,OrderedDict #骆峰命名法\n",
    "\n",
    "#### 名字与对象之间的建立引用与解除引用\n",
    "我们可以使用`=`建立名字与对象之间的关联，用`del 名字`来解除这种关联"
   ]
  },
  {
   "cell_type": "code",
   "execution_count": 32,
   "metadata": {},
   "outputs": [
    {
     "ename": "NameError",
     "evalue": "name 'lesson1' is not defined",
     "output_type": "error",
     "traceback": [
      "\u001b[0;31m---------------------------------------------------------------------------\u001b[0m",
      "\u001b[0;31mNameError\u001b[0m                                 Traceback (most recent call last)",
      "\u001b[0;32m<ipython-input-32-a88766c732c5>\u001b[0m in \u001b[0;36m<module>\u001b[0;34m\u001b[0m\n\u001b[1;32m      3\u001b[0m \u001b[0;34m\u001b[0m\u001b[0m\n\u001b[1;32m      4\u001b[0m \u001b[0;32mimport\u001b[0m \u001b[0msys\u001b[0m\u001b[0;31m#使用系统工具查看对象被引用次数\u001b[0m\u001b[0;34m\u001b[0m\u001b[0;34m\u001b[0m\u001b[0m\n\u001b[0;32m----> 5\u001b[0;31m \u001b[0msys\u001b[0m\u001b[0;34m.\u001b[0m\u001b[0mgetrefcount\u001b[0m\u001b[0;34m(\u001b[0m\u001b[0mlesson1\u001b[0m\u001b[0;34m)\u001b[0m\u001b[0;34m\u001b[0m\u001b[0;34m\u001b[0m\u001b[0m\n\u001b[0m\u001b[1;32m      6\u001b[0m \u001b[0;34m\u001b[0m\u001b[0m\n\u001b[1;32m      7\u001b[0m \u001b[0;32mdel\u001b[0m \u001b[0mlesson1\u001b[0m\u001b[0;31m#在名字空间中解除lesson1与['2018-7-30','David','Python-1']这个列表对象之间的引用\u001b[0m\u001b[0;34m\u001b[0m\u001b[0;34m\u001b[0m\u001b[0m\n",
      "\u001b[0;31mNameError\u001b[0m: name 'lesson1' is not defined"
     ]
    }
   ],
   "source": [
    "lesson1=['2018-7-30','David','Python-1']\n",
    "del lesson1\n",
    "\n",
    "import sys#使用系统工具查看对象被引用次数\n",
    "sys.getrefcount(lesson1)\n",
    "\n",
    "del lesson1#在名字空间中解除lesson1与['2018-7-30','David','Python-1']这个列表对象之间的引用"
   ]
  },
  {
   "cell_type": "code",
   "execution_count": null,
   "metadata": {},
   "outputs": [],
   "source": [
    "import psutil\n",
    "def rss():\n",
    "    m=psutil.Process().memory_info()\n",
    "    print(m.rss>>20,'MB')\n",
    "\n",
    "rss()\n",
    "x=list(range(100000000000))\n",
    "rss()\n",
    "del x\n",
    "rss()"
   ]
  },
  {
   "cell_type": "code",
   "execution_count": null,
   "metadata": {},
   "outputs": [],
   "source": [
    "#wekref 弱引用\n",
    "import weakref\n",
    "set1={1,2,3}\n",
    "wref_to_set1=weakref.ref(set1)\n",
    "\n",
    "weakref.getweakrefcount(wref_to_set1)\n",
    "weakref.getweakrefs(wref_to_set1)\n",
    "\n",
    "str1='china in my country!'\n",
    "str2=str1\n",
    "import sys\n",
    "sys.getrefcount(str1)"
   ]
  },
  {
   "cell_type": "markdown",
   "metadata": {},
   "source": [
    "##### 延伸阅读：`_，__,__*__`,\n",
    "\n",
    "- `_`开头，模块内的私有成员，不会被星号导入    \n",
    "- `__`开头，类成员私有成员    \n",
    "- `__`开头,`__`结尾，系统成员，不要使用    \n",
    "- `_`交互模式下，保存最后一个表达式的返回的名字   "
   ]
  },
  {
   "cell_type": "code",
   "execution_count": null,
   "metadata": {
    "scrolled": true
   },
   "outputs": [],
   "source": [
    "r1=range(7)\n",
    "type(r1)\n",
    "r1.__next__()"
   ]
  },
  {
   "cell_type": "markdown",
   "metadata": {},
   "source": [
    "##### 延伸阅读：垃圾回收（计数机制与分代回收机制）"
   ]
  },
  {
   "cell_type": "code",
   "execution_count": null,
   "metadata": {},
   "outputs": [],
   "source": [
    "a1={}\n",
    "a1.__len__()"
   ]
  },
  {
   "cell_type": "code",
   "execution_count": null,
   "metadata": {},
   "outputs": [],
   "source": [
    "import gc\n",
    "\n",
    "gc.get_count()#看看当前的垃圾的计数\n",
    "\n",
    "gc.get_threshold()#查看针对每代自动执行垃圾回收的阈值，可以使用gc.set_threshold重新设置阈值\n",
    "# 当没有回收的0代对象个数超过700，即开始0级垃圾回收，\n",
    "# 当0代垃圾回收超过10次即开始1级垃圾回收，1级垃圾回收清除包括0级垃圾，\n",
    "# 当1代垃圾回收超过10次，即开始2级垃圾回收，2级垃圾回收清除包括0级，1级垃圾\n",
    "\n",
    "\n",
    "#垃圾回收机制python默认开启的，gc.disabled可关闭垃圾回收机制\n",
    "#而使用gc.collect([generation])显式手动进行垃圾回收\n",
    "gc.collect(0)#回收0级垃圾，也可以指定1，2"
   ]
  },
  {
   "cell_type": "markdown",
   "metadata": {},
   "source": [
    "#### 名字空间与局部作用域L,全局作用域G\n",
    "在《程序设计语言——实践之路》里的术语，将名字和与其绑定的对象之间的关系，称为约束。赋值语句就是约束建立的地方。  \n",
    "约束既然是（name，obj）这样的关联关系，约束关系的容身之地便是就是名字空间（字典对象）"
   ]
  },
  {
   "cell_type": "code",
   "execution_count": null,
   "metadata": {},
   "outputs": [],
   "source": [
    "%reset"
   ]
  },
  {
   "cell_type": "code",
   "execution_count": null,
   "metadata": {},
   "outputs": [],
   "source": [
    "a=5"
   ]
  },
  {
   "cell_type": "code",
   "execution_count": null,
   "metadata": {},
   "outputs": [],
   "source": [
    "%whos"
   ]
  },
  {
   "cell_type": "code",
   "execution_count": null,
   "metadata": {},
   "outputs": [],
   "source": [
    "#当不在任何一个函数体内的时候的时候,locals()和globals()是同一个对象\n",
    "locals() is globals()\n",
    "\n",
    "# #而每当进入一个函数时，也会新产生一个locals(),这个locals()和globals（）就不在相同了，下节课讲\n",
    "\n",
    "# #普通命名法\n",
    "# teacher_name='david'\n",
    "# globals()\n",
    "\n",
    "#直接命名法\n",
    "globals()['teacher']='david'\n",
    "teacher"
   ]
  },
  {
   "cell_type": "markdown",
   "metadata": {},
   "source": [
    "### 标准操作符及优先级"
   ]
  },
  {
   "cell_type": "code",
   "execution_count": null,
   "metadata": {
    "scrolled": true
   },
   "outputs": [],
   "source": [
    "#算术运算符\n",
    "a=100;b=3\n",
    "a+b;a-b;a*b;a/b\n",
    "a//b #取商\n",
    "a%b #取余\n",
    "a**2\n",
    "a**0.5\n",
    "\n",
    "#比较运算符  \n",
    "if a==b:\n",
    "    print ('a equal b')\n",
    "\n",
    "if a!=b:\n",
    "    print ('a not equal b')\n",
    "    \n",
    "#逻辑运算符><>=,\n",
    "if a>=50:\n",
    "    print('a is grater than 50')\n",
    "    \n",
    "#成员运算符in,not in\n",
    "websiteUrl='julyedu.com'\n",
    "if '.net' not in websiteUrl:\n",
    "    print ('.net not in it')\n",
    "    \n",
    "    \n",
    "#赋值\n",
    "\n",
    "#多重赋值\n",
    "#a=100;b=100\n",
    "a=b=100\n",
    "\n",
    "#多元赋值\n",
    "#a=100;b=200\n",
    "a,b,c=100,200,200\n",
    "\n",
    "#交换赋值\n",
    "a,b=b,a\n",
    "print(a,b)\n",
    "\n",
    "#unpack解包\n",
    "l1=[1,2,3,4,5,'6']\n",
    "a,b,c,d,e,f=l1\n",
    "print(a,b,c,d,e)\n",
    "\n",
    "#*号收集\n",
    "a,*b,c=l1\n",
    "print(a,b,c)\n",
    "\n",
    "#*号展开,针对序列\n",
    "l1=[1,2,3,4]\n",
    "s1='julyedu.com'\n",
    "[*l1,*s1]\n",
    "\n",
    "#*号展开,针对字典\n",
    "d1={'name':'machine learning 5th','add':'BJ,SH,*'}\n",
    "[*d1],{**d1,'date':'2018-7-30'}\n",
    "\n",
    "#,号放在最后的解包\n",
    "l1=[[3,4,5]]\n",
    "a=l1\n",
    "b,=l1\n",
    "print(a,b)"
   ]
  },
  {
   "cell_type": "markdown",
   "metadata": {},
   "source": [
    "##### 扩展阅读：运算符的优先级\n",
    "```\n",
    "第一名 - 函数调用、寻址、下标\n",
    "第二名 - 幂运算 **\n",
    "第三名 - 翻转运算符 ~\n",
    "第四名 - 正负号\n",
    "第五名 - *、/、%\n",
    "第六名 - +、-\n",
    "```"
   ]
  },
  {
   "cell_type": "markdown",
   "metadata": {},
   "source": [
    "### Python基本数据类型(文本，字符串)与数据结构(列表 集合, 元组, 字典)\n",
    "\n",
    "#### 1.基本数据类型/不可变对象"
   ]
  },
  {
   "cell_type": "code",
   "execution_count": null,
   "metadata": {
    "scrolled": true
   },
   "outputs": [],
   "source": [
    "#数值整形\n",
    "a=100;b=200\n",
    "\n",
    "#进制转换\n",
    "a=0b0101001#bin()\n",
    "b=0o4#oct()\n",
    "c=0x28#hex()\n",
    "\n",
    "#浮点型\n",
    "a=3.1415\n",
    "\n",
    "#科学计算法\n",
    "c=5e13\n",
    "print(c)\n",
    "\n",
    "#数字的正负无穷\n",
    "#float('inf')正无穷\n",
    "#float('-inf')负无穷\n",
    "if 99999999999999999<float('inf'):\n",
    "    print('you win!')\n",
    "\n",
    "#复数\n",
    "a=4.3+22j\n",
    "type(a)\n",
    "\n",
    "\n",
    "#数值类型转换\n",
    "a=4.48\n",
    "b=8\n",
    "int(a)\n",
    "\n",
    "round(a,1)"
   ]
  },
  {
   "cell_type": "markdown",
   "metadata": {},
   "source": [
    "#### 延伸阅读：数值塔（numerical tower）\n",
    "<img src='data:image/png;base64,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'>\n",
    "\n",
    "Python 的数值层次结构的灵感来自于 Scheme 语言的数值塔。   \n",
    "numbers 模块内并包括 Number, Complex,Real,Rational,Integral   \n"
   ]
  },
  {
   "cell_type": "code",
   "execution_count": null,
   "metadata": {},
   "outputs": [],
   "source": [
    "##字符串型\n",
    "#初始化及转义\n",
    "str1='''AI'''\n",
    "str2='Julyedu.com'\n",
    "\n",
    "\n",
    "#访问,索引及切片访问\n",
    "str2[-1]\n",
    "\n",
    "#str2[start:end:stried]\n",
    "#切片访问的特点：左闭右开[)\n",
    "str2[0:4]\n",
    "\n",
    "#格式化访问1\n",
    "companyName='julyedu'\n",
    "str3='http://{}.com'\n",
    "print(str3.format(companyName))\n",
    "\n",
    "#格式化访问2\n",
    "print(\"Company name is %s\" %companyName)\n",
    "\n",
    "#格式化访问3\n",
    "_='Python 3.6'#fstring only can be used under version 3.6\n",
    "str4=f\"fstring is new feature of {_}\"\n",
    "str4\n",
    "\n",
    "        \n",
    "        \n",
    "#查找与替换\n",
    "str3.find('o')\n",
    "str3.replace('.com','.net')\n",
    "\n",
    "#统计\n",
    "str3.count('com')a\n",
    "\n",
    "\n",
    "#布尔型\n",
    "\n",
    "###重要点：tab键与使用帮助\n",
    "#help(l1.extend)"
   ]
  },
  {
   "cell_type": "markdown",
   "metadata": {},
   "source": [
    "##### 延伸阅读：小整数缓存区与字符驻留"
   ]
  },
  {
   "cell_type": "code",
   "execution_count": null,
   "metadata": {},
   "outputs": [],
   "source": [
    "# Python中，根据实例是否可修改，分为可变与不可变两种类型数据 \n",
    "#小整数\n",
    "#Python为小整数（-5至256）已创建地址并存入在小整数缓存区\n",
    "#因而超过此范围则会放入整数链表，也就是相关整数是不同的对象\n",
    "#虽然是整数对象，但地址也不相同。\n",
    "a=77;b=77\n",
    "a is b#True   #小整数缓存池，只有同一个位置。目的是把常用的东西放在缓存池，减小开销\n",
    "a=998;b=998\n",
    "a is b#False\n",
    "\n",
    "#字符串驻留intern\n",
    "str_a='julyedu'\n",
    "str_b='julyedu'\n",
    "str_a is str_b#True 正常字符串，地址相同\n",
    "\n",
    "\n",
    "str_c='Python 3.5'\n",
    "str_d='Python 3.5'\n",
    "str_c is str_d#False 有些稍特殊的字符串，Python认为复用性不大，于是被分配到堆上，不会在内存池中检查。因此这是两个对象。\n",
    "\n",
    "import sys\n",
    "str_e=sys.intern('Python 3.5')#强制将字符串缓存进了内存池，因此相等。str_e,str_f均指向Arena相同位置\n",
    "str_f=sys.intern('Python 3.5')\n",
    "str_e is str_f #True"
   ]
  },
  {
   "cell_type": "markdown",
   "metadata": {},
   "source": [
    "#### 2.Python数据结构(数组,列表，元组，集合,字典)/不可变对象"
   ]
  },
  {
   "cell_type": "code",
   "execution_count": null,
   "metadata": {},
   "outputs": [],
   "source": [
    "#Array[]:相同类型元素的序列\n",
    "from array import array\n",
    "a1=array('h',[1,2,3])\n",
    "memv=memoryview(a1)#内存视图\n",
    "len(memv)\n",
    "memv[0]=55\n",
    "a1\n",
    "dir(a1)#array相关操作\n",
    "\n",
    "#复制操作：对bytearray对象片断是复制，而非直接引用。\n",
    "str1=bytearray('中国','utf-8')\n",
    "print('str1',str1[0:3])#序列访问\n",
    "tempstr=str1[0:3]#片断赋值给新变量\n",
    "tempstr[0:3]=b'\\xff\\xff\\xff'\n",
    "print('tempstr:',tempstr)\n",
    "print('old str1',str1)#原str1没有变化，因此是发生了复制。。\n",
    "\n",
    "#直接操作\n",
    "#bytes,bytearray,array.arrray支持视图操作\n",
    "v=memoryview(str1)#对str1进行内存视图\n",
    "v[0:3]=b'\\xff\\xff\\xff'#此时对视图对象操作，即是对原str1操作了\n",
    "print(str1)\n",
    "\n",
    "a1 = array('l')#创建数组\n",
    "a1.append(9)# 添加元素\n",
    "a1.append(9)\n",
    "a1.append(8)\n",
    "\n",
    "\n",
    "#列表[]:任意元素类型对象的序列\n",
    "l1=[1,'china',['AI','julyedu.com']]\n",
    "l1.append('机器学习集训营第三期')\n",
    "\n",
    "\n",
    "#元组()tuple,只读列表\n",
    "t1=(1,2,3,4)\n",
    "dir(t1)\n",
    "#只读列表是真的只读吗？\n",
    "t2=(1,2,3,[4,5,6])\n",
    "# t2[0]=11#报错\n",
    "t2[3].append(7)#正确\n",
    "t2\n",
    "\n",
    "#tuple的单元素写法\n",
    "(3)与(3,)哪个是tuple对象呢?\n",
    "type((3)),type((3,))\n",
    "#这里跟逗号又扯上关系，\n",
    "#不仅如此，在交互式命令行中，当我们输入4,时返回的也是一个tuple对象\n",
    "\n",
    "\n",
    "#集合{}set：无序的不重复元素,集合中的对象，通常叫key\n",
    "s1={1,1,1,2,3,4,5,2,4,234}\n",
    "l2=[1,1,1,2,3,4,5,2,4,234]\n",
    "set(s1)\n",
    "\n",
    "##frozenset\n",
    "frozenset(range(7))\n",
    "frozenset({x+1 for x in range(-1,7) if x%2==0})\n",
    "\n",
    "\n",
    "#字典{}dict：KV对应型数据类型{\n",
    "d1={'name':'david','gender':'male'}\n",
    "\n",
    "\n",
    "#字典的视图\n",
    "#Python3下字典视图，既同步读取字典，又却无法修改。\n",
    "d1=dict(a=1,b=2)\n",
    "ks=d1.keys()#返回的是主键视图,其类型为<class 'dict_keys'>\n",
    "print('b' in ks)#直接从该视图中观察字典\n",
    "for key in ks:\n",
    "    print(key,d1[key])\n",
    "    \n",
    "\n",
    "d1['b']=3#更新原字典\n",
    "d1['c']=99#对原字典插入新值\n",
    "for key in ks:#此时并未再次运行d1.keys()，也能看到原字典的变化\n",
    "print(key,d1[key])    \n",
    "\n",
    "\n",
    "#标准库下的其它字典OrderedDict\n",
    "from collections import OrderedDict\n",
    "\n",
    "od1=OrderedDict()#按主键首次插入顺序进行排序\n",
    "\n",
    "od1['a']=7\n",
    "od1['z']=8\n",
    "od1['b']=9\n",
    "od1"
   ]
  },
  {
   "cell_type": "markdown",
   "metadata": {},
   "source": [
    "##### 扩展阅读：列表推导式List Comprehensions，可迭代对象Iterable与迭代器iterator,生成器generator"
   ]
  },
  {
   "cell_type": "code",
   "execution_count": null,
   "metadata": {},
   "outputs": [],
   "source": [
    "#列表推导式：从一个列表中生成一个新的列表，简化了循环的写法\n",
    "l1= [x for x in range(30) if x%3==0]\n",
    "l1"
   ]
  },
  {
   "cell_type": "markdown",
   "metadata": {},
   "source": [
    "<img src=\"data:image/png;base64,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\" />"
   ]
  },
  {
   "cell_type": "code",
   "execution_count": null,
   "metadata": {},
   "outputs": [],
   "source": [
    "l1=[0, 3, 6, 9, 12, 15, 18, 21, 24, 27]\n",
    "l2=iter(l1)\n",
    "l2.__next__()"
   ]
  },
  {
   "cell_type": "code",
   "execution_count": null,
   "metadata": {},
   "outputs": [],
   "source": [
    "#可迭代对象Iterable：可以被for循环的对象统称为可迭代对象Iterable,list,str,dict这些都是可迭代类型\n",
    "#迭代器Iterator：可以被next调用的迭代器。\n",
    "#next(l1) #TypeError: 'list' object is not an iterator\n",
    "\n",
    "#使用iter将一来个可迭代对象变为迭代器\n",
    "l1=iter(l1)\n",
    "next(l1),next(l1)\n",
    "\n",
    "\n",
    "#生成器Generator：首先是一个迭代器，然后其内容是按需生成\n",
    "#列表是一次性生成，缺点是当内容过大时会占用大量内容，那能不能用到多少生成多少呢？\n",
    "#Python里一边循环一边计算(惰性计算)的迭代器称为生成器（Generator）\n",
    "\n",
    "#1.直接从列表表达式生成\n",
    "g1= (x**2 for x in range(30) if x%2==0)\n",
    "type(g1)\n",
    "next(g1),next(g1),next(g1),next(g1),g1.__next__(),g1.__next__()\n",
    "\n",
    "#2.函数生成，与yield关键字\n",
    "def g2_func(n):\n",
    "    for i in range(n):\n",
    "        yield i**2\n",
    "    \n",
    "g2=g2_func(7)\n",
    "next(g2),next(g2),g2.__next__(),g2.__next__(),g2.__next__(),g2.__next__()\n",
    "\n",
    "#yield from/子迭代器，后面直接是可迭代对象。\n",
    "def yield_from_iter(iter_object):\n",
    "    yield from iter_object\n",
    "    \n",
    "y1=yield_from_iter('China')\n",
    "y1.__next__(),next(y1)"
   ]
  },
  {
   "cell_type": "markdown",
   "metadata": {},
   "source": [
    "### 声明Statement与Expression表达式"
   ]
  },
  {
   "cell_type": "markdown",
   "metadata": {
    "ExecuteTime": {
     "end_time": "2018-10-22T01:56:13.756521Z",
     "start_time": "2018-10-22T01:56:13.752527Z"
    }
   },
   "source": [
    "#### statement声明"
   ]
  },
  {
   "cell_type": "code",
   "execution_count": null,
   "metadata": {
    "ExecuteTime": {
     "end_time": "2018-10-22T01:56:12.126872Z",
     "start_time": "2018-10-22T01:56:12.121886Z"
    }
   },
   "outputs": [],
   "source": [
    "a='julyedu.com'#statement通常为赋值语句\n",
    "b=100\n",
    "c=a"
   ]
  },
  {
   "cell_type": "markdown",
   "metadata": {},
   "source": [
    "#### expression表达式（通常有返回结果 ）"
   ]
  },
  {
   "cell_type": "code",
   "execution_count": null,
   "metadata": {},
   "outputs": [],
   "source": [
    "#值、变量和运算符共同组成的整体我们将其称为表达式。通常有值表达式、变量表达式、计算表达式、字符串表达式,\n",
    "b,b+100,a+' is amazing',__builtins__"
   ]
  },
  {
   "cell_type": "markdown",
   "metadata": {},
   "source": [
    "#### exec执行声明语句,eval执行表达式"
   ]
  },
  {
   "cell_type": "code",
   "execution_count": null,
   "metadata": {},
   "outputs": [],
   "source": []
  },
  {
   "cell_type": "markdown",
   "metadata": {},
   "source": [
    "### 判断，循环与循环控制"
   ]
  },
  {
   "cell_type": "code",
   "execution_count": null,
   "metadata": {},
   "outputs": [],
   "source": [
    "#### 判断：if， if else ,if elif与三元表达式\n",
    "\n",
    "#单if\n",
    "age=88\n",
    "if age<18:\n",
    "    print('teenage')\n",
    "    \n",
    "#if else elif\n",
    "if age<18:\n",
    "    print('teenage')\n",
    "else:\n",
    "    print('adult')\n",
    "    \n",
    "#if elif\n",
    "if age<18:\n",
    "    print('teenage')\n",
    "elif age >18 and age <60:\n",
    "    print('adult')\n",
    "elif age>60:\n",
    "    print('elder')\n",
    "\n",
    "\n",
    "#三元表达式\n",
    "'a' if age>50 else 'b'"
   ]
  },
  {
   "cell_type": "code",
   "execution_count": null,
   "metadata": {
    "scrolled": true
   },
   "outputs": [],
   "source": [
    "#For循环与While循环\n",
    "str1='julyedu.com'\n",
    "for item in str1:\n",
    "    print(item)\n",
    "    \n",
    "for item in range(7):\n",
    "    print (item)\n",
    "\n",
    "\n",
    "countnum=1\n",
    "while(countnum<10):\n",
    "    print(item)\n",
    "    countnum+=1    \n",
    "\n",
    "#### break与continue循环控制     \n",
    "i=0\n",
    "while True:\n",
    "    i+=1\n",
    "    if i==3:\n",
    "        continue\n",
    "    if i>5:\n",
    "        break\n",
    "    print(i)"
   ]
  },
  {
   "cell_type": "markdown",
   "metadata": {},
   "source": [
    "##### 扩展阅读：临时变量\n",
    "循环语句，没有单独的名字空间，使用的是函数 的locals()\n",
    "for i in range(10):\n",
    "    n=i\n",
    "n    "
   ]
  },
  {
   "cell_type": "markdown",
   "metadata": {},
   "source": [
    "### BIFs 自带电池(`__builtins__`模块)与模块作用域B\n",
    "\n",
    "内置模块__builtins__由解释器负责导入,受到解释器特殊对待"
   ]
  },
  {
   "cell_type": "code",
   "execution_count": null,
   "metadata": {},
   "outputs": [],
   "source": [
    "#列出模块对象\n",
    "# __builtins__.__dir__()"
   ]
  },
  {
   "cell_type": "markdown",
   "metadata": {},
   "source": [
    "#### 常用功能说明\n",
    "```\n",
    "help(obj) 在线帮助, obj可是任何类型    \n",
    "\n",
    "\n",
    "eval(str) 表示合法的python表达式，返回这个表达式 \n",
    "exec(str) 执行合法的python声明，返回字节码\n",
    "\n",
    "\n",
    "#名字空间相关\n",
    "dir(obj) 查看obj的name space中可见的name\n",
    "vars(obj) 返回一个object的name space。用dictionary表示    \n",
    "locals() 返回一个局部name space,用dictionary表示    \n",
    "globals() 返回一个全局name space,用dictionary表示\n",
    "\n",
    "#类型\n",
    "type(obj) 查看一个obj的类型    \n",
    "isinstance(obj,cls) 查看obj是不是cls的instance    \n",
    "issubclass(subcls,supcls) 查看subcls是不是supcls的子类  \n",
    "\n",
    "#类型转换\n",
    "chr(i) 把一个ASCII数值,变成字符    \n",
    "ord(i) 把一个字符或者unicode字符,变成ASCII数值    \n",
    "oct(x) 把整数x变成八进制表示的字符串    \n",
    "hex(x) 把整数x变成十六进制表示的字符串    \n",
    "str(obj) 得到obj的字符串描述    \n",
    "list(seq) 把一个sequence转换成一个list    \n",
    "tuple(seq) 把一个sequence转换成一个tuple    \n",
    "dict(),dict(list) 转换成一个dictionary    \n",
    "int(x) 转换成一个integer    \n",
    "long(x) 转换成一个long interger    \n",
    "float(x) 转换成一个浮点数    \n",
    "complex(x) 转换成复数\n",
    "```"
   ]
  },
  {
   "cell_type": "markdown",
   "metadata": {},
   "source": [
    "#### 先讲LGB这三层楼（名字空间），E这层楼下节课会讲到\n",
    "\n",
    "<img src='data:image/jpeg;base64,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'>"
   ]
  },
  {
   "cell_type": "code",
   "execution_count": null,
   "metadata": {},
   "outputs": [],
   "source": [
    "#模块运行时\n",
    "__name__\n",
    "#正常情况下模块名__name__为对应的文件名，但当模块作为程序入口时，__name__被修改名__main__\n",
    "#if __name__=='__main__':实现自适应"
   ]
  },
  {
   "cell_type": "code",
   "execution_count": null,
   "metadata": {
    "scrolled": true
   },
   "outputs": [],
   "source": [
    "#web方式查看builtins以及Python相关目录\n",
    "#$ python -m pydoc -p 1223"
   ]
  },
  {
   "cell_type": "markdown",
   "metadata": {},
   "source": [
    "#### 模块作用域B，与LGB"
   ]
  },
  {
   "cell_type": "code",
   "execution_count": null,
   "metadata": {},
   "outputs": [],
   "source": [
    "#除了全局作用域Global外,还有一个作用域叫Builtin,指的就是这个模块。。\n",
    "__builtins__.name='David'#把名为name，约束对象为'David'的kv，存储在了__builtins__这个模块中。而不是globals()中\n",
    "\n",
    "name='Jack'\n",
    "name\n",
    "#此刻LGB三者均到齐，E下课节讲。"
   ]
  },
  {
   "cell_type": "markdown",
   "metadata": {},
   "source": [
    "##### 扩展阅读：模块Module与包Package\n",
    "- 模块:一个模块就是一个Python源码文件(也可能是对c语言文件编译生成的pyd文件)\n",
    "- 包:组织一堆相关功能的模块，并包含`__init__.py`文件的目录。"
   ]
  },
  {
   "cell_type": "markdown",
   "metadata": {},
   "source": [
    "##### 扩展阅读：模块引用方式与存放位置\n",
    "一个模块本质上是一个py文件"
   ]
  },
  {
   "cell_type": "code",
   "execution_count": null,
   "metadata": {
    "scrolled": true
   },
   "outputs": [],
   "source": [
    "#除了import文件导入，compile&exec导入，还可以这样导入模块\n",
    "import types\n",
    "mm=types.ModuleType('MyModule')\n",
    "type(mm),type(__builtins__)\n",
    "mm.name='f'\n",
    "mm.__name__\n",
    "\n",
    "#删除对模块的引用\n",
    "import random,sys\n",
    "sys.modules['random']\n",
    "del random\n",
    "# random#会报错，因为名字空间中解除了约束\n",
    "sys.modules['random']#导入的模块被记录至sys.modules，这里还被记录着，以方便后续导入"
   ]
  },
  {
   "cell_type": "markdown",
   "metadata": {},
   "source": [
    "##### Python内置包"
   ]
  },
  {
   "cell_type": "code",
   "execution_count": null,
   "metadata": {},
   "outputs": [],
   "source": [
    "import sys\n",
    "list(sys.modules.keys())\n",
    "\n",
    "import os\n",
    "os.system('mkdir os_test')"
   ]
  },
  {
   "cell_type": "markdown",
   "metadata": {},
   "source": [
    "##### 三方包的管理\n",
    "cmd命令行下运行，`python -m pydoc -p 1234 `"
   ]
  },
  {
   "cell_type": "markdown",
   "metadata": {},
   "source": [
    "##### 批量安装Package   \n",
    "创建requirements.txt文件，将所需安装的包的名字都分行放在里\n",
    "\n",
    "pip install -r ./requirements.txt"
   ]
  },
  {
   "cell_type": "markdown",
   "metadata": {},
   "source": [
    "### 异常与调试"
   ]
  },
  {
   "cell_type": "code",
   "execution_count": null,
   "metadata": {},
   "outputs": [],
   "source": [
    "#一个出现异常的例子\n",
    "a=33\n",
    "b=0\n",
    "print(a/b)\n",
    "print(77/6)"
   ]
  },
  {
   "cell_type": "markdown",
   "metadata": {},
   "source": [
    "#### 异常/exception对象\n",
    "异常同样也是Python对象，表示一个在程序执行过程中发生了影响正常运行时而产生的一个事件(产生一个traceback.)   \n",
    "\n",
    "|常见异常|说明|\n",
    "|---:|--:--|\n",
    "|NameError|尝试访问一个没有申明的变量|\n",
    "|ZeroDivisionError|除数为0|\n",
    "|SyntaxError|语法错误|\n",
    "|IndexError|索引超出序列范围|\n",
    "|KeyError|请求一个不存在的字典关键字|\n",
    "|IOError|输入输出错误（比如你要读的文件不存在）|\n",
    "|AttributeError|尝试访问未知的对象属性|\n",
    "|ValueError|传给函数的参数类型不正确，比如给int()函数传入字符串形|"
   ]
  },
  {
   "cell_type": "markdown",
   "metadata": {},
   "source": [
    "#### 捕获并处理异常对象\n",
    "  \n",
    "捕捉异常对象要使用try/except,或try/else,try/finally 语句    \n",
    "try语句用来检测try语句块中的错误，从而让except语句捕获异常信息并处理   \n",
    "例如NameError：在名字空间访问时出错时会导致，也是咱们上边课程一直讲到的    "
   ]
  },
  {
   "cell_type": "code",
   "execution_count": null,
   "metadata": {},
   "outputs": [],
   "source": [
    "#try except else \n",
    "try:\n",
    "    a=never_named_value\n",
    "    print(int(a))\n",
    "except ValueError:#发生ValueError错误执行以下代码\n",
    "    print (\"Error: 函数参数传值错误\")\n",
    "except NameError:#发生NameError错误执行以下代码\n",
    "    print (\"Error: 名称空间使用出错\")\n",
    "else:\n",
    "    print('Everything is fine')\n",
    "    \n",
    "print('end line')\n",
    "#try-finally 无法是否捕获了异常，都会执行finally后的语句"
   ]
  },
  {
   "cell_type": "markdown",
   "metadata": {},
   "source": [
    "##### 延伸阅读：手动抛出异常\n",
    "除了由程序触发异常，也可以使用`raise`手动抛出一个通用的异常类型"
   ]
  },
  {
   "cell_type": "code",
   "execution_count": null,
   "metadata": {},
   "outputs": [],
   "source": [
    "raise ValueError('类别错误') "
   ]
  },
  {
   "cell_type": "markdown",
   "metadata": {},
   "source": [
    "#### 开启调试\n",
    "没发生异常，没有traceback就没办法debug.   \n",
    "在错误异常发生时，我们可以运用%debug来开启调试"
   ]
  },
  {
   "cell_type": "code",
   "execution_count": null,
   "metadata": {},
   "outputs": [],
   "source": [
    "%debug"
   ]
  },
  {
   "cell_type": "markdown",
   "metadata": {},
   "source": [
    "#### 开启自动调试\n",
    "异常发生时，调用堆栈帧被traceback保存，所以可以进行debug."
   ]
  },
  {
   "cell_type": "code",
   "execution_count": null,
   "metadata": {},
   "outputs": [],
   "source": [
    "%pdb on"
   ]
  },
  {
   "cell_type": "code",
   "execution_count": null,
   "metadata": {},
   "outputs": [],
   "source": [
    "# a=1\n",
    "# print(never_named_value)\n",
    "# b=2\n",
    "# print(never_named_value1)\n",
    "\n",
    "def test(a,b,c=10):\n",
    "    print(d)\n",
    "    return a+b+c\n",
    "\n",
    "test(5,4)\n",
    "\n",
    "ff=33331\n",
    "adea=333"
   ]
  },
  {
   "cell_type": "markdown",
   "metadata": {},
   "source": [
    "#### 调试相关命令"
   ]
  },
  {
   "cell_type": "markdown",
   "metadata": {},
   "source": [
    "|pdb 常用命令|解释|\n",
    "|:--|-:-|\n",
    "|break 或 b |设置断点\t设置断点|\n",
    "|continue 或 c\t|继续执行程序|\n",
    "|list 或 l\t|查看当前行的代码段|\n",
    "|step 或 s\t|进入函数|\n",
    "|return 或 r\t|执行代码直到从当前函数返回|\n",
    "|pp\t|打印变量的值|\n",
    "|w,where|栈帧选择,输出整个调用栈，u,d上下选择前后栈帧|\n",
    "|c,continue|触发断点后的执行，执行到下一个断点|\n",
    "|n,next|发断点后的执行，单步执行|\n",
    "|s,step|进入可调对象|\n",
    "|help\t|帮助|\n",
    "|q,quit,exit|退出调试|\n",
    "\n",
    "\n",
    "\n",
    "\n",
    "\n",
    "\n",
    "\n",
    "\n",
    "#### 全部调试命令，使用help调出\n",
    "```\n",
    "Documented commands (type help <topic>):\n",
    "========================================\n",
    "EOF    cl         disable  interact  next    psource  rv         unt   \n",
    "a      clear      display  j         p       q        s          until \n",
    "alias  commands   down     jump      pdef    quit     source     up    \n",
    "args   condition  enable   l         pdoc    r        step       w     \n",
    "b      cont       exit     list      pfile   restart  tbreak     whatis\n",
    "break  continue   h        ll        pinfo   return   u          where \n",
    "bt     d          help     longlist  pinfo2  retval   unalias  \n",
    "c      debug      ignore   n         pp      run      undisplay\n",
    "\n",
    "Miscellaneous help topics:\n",
    "==========================\n",
    "exec  pdb\n",
    "```"
   ]
  },
  {
   "cell_type": "markdown",
   "metadata": {},
   "source": [
    "#### 主动设置断点进行调试"
   ]
  },
  {
   "cell_type": "code",
   "execution_count": null,
   "metadata": {},
   "outputs": [],
   "source": [
    "#b列出所有已有断点, ignore,disable,enable,也可以指定文件名设置断点,也可以设置条件。 \n",
    "import pdb\n",
    "\n",
    "i= 0\n",
    "while i<10:\n",
    "    print(i)\n",
    "    pdb.set_trace()\n",
    "    i += 1\n",
    "pdb.set_trace()\n",
    "num=1"
   ]
  },
  {
   "cell_type": "markdown",
   "metadata": {},
   "source": [
    "##### 延伸阅读：追踪(traceback) \n",
    "\n",
    "当简单的异常处理给我们的信息已经无法解决调试问题时，可以使用traceback对象进行深入观察。\n",
    "\n",
    "追踪是在出现异常时用于回溯的对象，与栈帧相反。由于异常时才会构建，而异常未捕获时会一直向外层栈帧抛出，所以需要使用try才能见到这个对象。   \n",
    "你可以使用sys模块的exc_info()函数获得它，这个函数返回一个元组，元素分别是异常类型、异常对象、追踪。   \n",
    "对象中包含出错的行数、位置等数据。\n",
    "\n",
    "\n",
    "traceback的属性全部是只读，例如如下属性:\n",
    "- tb_next: 追踪的下一个追踪对象\n",
    "- tb_frame: 当前追踪对应的栈帧\n",
    "- tb_lineno: 当前追踪的行号"
   ]
  },
  {
   "cell_type": "code",
   "execution_count": null,
   "metadata": {},
   "outputs": [],
   "source": [
    "import sys, traceback\n",
    "    \n",
    "try:\n",
    "    a=never_named_value\n",
    "    print(int(a))\n",
    "except ValueError:#发生ValueError错误执行以下代码\n",
    "    print (\"Error: 函数参数传值错误\")\n",
    "except NameError:#发生NameError错误执行以下代码\n",
    "    print (\"Error: 名称空间使用出错\")\n",
    "    \n",
    "    #使用sys.exc_info获得tb对象\n",
    "    exc_type, exc_value, exc_traceback_obj=sys.exc_info()\n",
    "    print('元组内三个对象',exc_type, exc_value, exc_traceback_obj)\n",
    "    \n",
    "    #直接打印tb对象内的主要信息\n",
    "    traceback.print_exc() \n",
    "    #traceback对象内更多内容\n",
    "    print('tb对象内更多信息',exc_traceback_obj.tb_frame,exc_traceback_obj.tb_lasti)\n",
    "else:\n",
    "    print('Everything is fine')"
   ]
  },
  {
   "cell_type": "markdown",
   "metadata": {},
   "source": [
    "### 作业"
   ]
  },
  {
   "cell_type": "markdown",
   "metadata": {},
   "source": [
    "/exercise/下"
   ]
  }
 ],
 "metadata": {
  "kernelspec": {
   "display_name": "Python 3",
   "language": "python",
   "name": "python3"
  },
  "language_info": {
   "codemirror_mode": {
    "name": "ipython",
    "version": 3
   },
   "file_extension": ".py",
   "mimetype": "text/x-python",
   "name": "python",
   "nbconvert_exporter": "python",
   "pygments_lexer": "ipython3",
   "version": "3.6.7"
  },
  "latex_envs": {
   "LaTeX_envs_menu_present": true,
   "autoclose": false,
   "autocomplete": true,
   "bibliofile": "biblio.bib",
   "cite_by": "apalike",
   "current_citInitial": 1,
   "eqLabelWithNumbers": true,
   "eqNumInitial": 1,
   "hotkeys": {
    "equation": "Ctrl-E",
    "itemize": "Ctrl-I"
   },
   "labels_anchors": false,
   "latex_user_defs": false,
   "report_style_numbering": false,
   "user_envs_cfg": false
  },
  "toc": {
   "base_numbering": 1,
   "nav_menu": {},
   "number_sections": true,
   "sideBar": true,
   "skip_h1_title": false,
   "title_cell": "Table of Contents",
   "title_sidebar": "Contents",
   "toc_cell": false,
   "toc_position": {
    "height": "calc(100% - 180px)",
    "left": "10px",
    "top": "150px",
    "width": "307.2px"
   },
   "toc_section_display": true,
   "toc_window_display": false
  }
 },
 "nbformat": 4,
 "nbformat_minor": 2
}
