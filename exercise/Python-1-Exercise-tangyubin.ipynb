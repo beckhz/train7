{
 "cells": [
  {
   "cell_type": "markdown",
   "metadata": {},
   "source": [
    "## Python第一课作业\n",
    "\n",
    "####  作业提交说明：\n",
    "- 位置：作业文件统一放置于/0.Teacher/Exercise/Python1/下\n",
    "- 文件名：请先复制该notebook文件，并重新命名为(课程名)+(您姓名的全拼)，并按要求完成后保存\n",
    "- 时间：课程结束后的第二天前提交。\n",
    "- 注意：请勿抄袭，移动，修改，删除其他同学和原始空白的练习文件。\n",
    "***"
   ]
  },
  {
   "cell_type": "markdown",
   "metadata": {},
   "source": [
    "## 作业"
   ]
  },
  {
   "cell_type": "markdown",
   "metadata": {},
   "source": [
    "#### 简答题"
   ]
  },
  {
   "cell_type": "markdown",
   "metadata": {},
   "source": [
    "- 1.你常用Jupyter notebook中的magic函数都有哪些？"
   ]
  },
  {
   "cell_type": "markdown",
   "metadata": {},
   "source": [
    "`%lsmagic`, `%quickref`,`%matplotlib inline`, `%whos`,`%%html`,`%%python2`,`%%timeit 1`"
   ]
  },
  {
   "cell_type": "markdown",
   "metadata": {},
   "source": [
    "$\\alpha^2$"
   ]
  },
  {
   "cell_type": "markdown",
   "metadata": {
    "collapsed": true
   },
   "source": [
    "- 2.简述Python文件运行的流程"
   ]
  },
  {
   "cell_type": "markdown",
   "metadata": {},
   "source": [
    "python: .py -->编译器 --> .pyc --> 解释器 -> 返回结果"
   ]
  },
  {
   "cell_type": "markdown",
   "metadata": {
    "collapsed": true
   },
   "source": [
    "- 3.何为字符串驻留intern？"
   ]
  },
  {
   "cell_type": "markdown",
   "metadata": {},
   "source": [
    "字符串为不可更改的数据类型，所以两个相同的字符串对象如果占用两块内存去存放，显然是浪费空间。\n",
    "所以将字符串的值存储在intern区，字符串对象只需要引用字符串值在intern区的地址即可。"
   ]
  },
  {
   "cell_type": "markdown",
   "metadata": {},
   "source": [
    "- 4.简单说说Python中的垃圾回收"
   ]
  },
  {
   "cell_type": "markdown",
   "metadata": {},
   "source": [
    "python 的垃圾回收采用的是 **引用计数** 机制为主 **标记-清除** 和 **分代收集** 两种机制为辅的策略。\n",
    "- 引用计数 引用计数机制，就是为每个对象分配一个计数器，用来计数该对象被引用的次数，比如赋值语句，`a=b`执行之后，b的引用次数就加1，但是`a=c`执行之后，a不再引用b，那么b的引用次数就减去1。显然如果一个变量的引用计数器为0的对象就是需要被回收的垃圾。引用计数机制的缺点是，循环引用导致的内存泄露，比如 `list_a.append(list_b); list_b.append(list_a)`，两个对象相互引用，但是这两个对象作为一个整体并不会被其他对象引用，其实是个垃圾，却占用着内存无法释放。引用计数机制的优点是效率高，只要引用计数器为0，就可以立刻清理掉，将回收垃圾的时间成本分摊到程序的运行时间中。\n",
    "- 标记-清除 标记-清除机制就是将垃圾回收的操作分为两步，第一步就是确定GC root，只要GC root到一个对象存在一条引用路径，就标记该对象不是垃圾。第二步就是将没有被标记为有用对象的垃圾清除掉。该机制可以解决引用计数机制中循环引用的缺点。\n",
    "- 分代收集 如果每次垃圾回收，都遍历所有对象，效率会非常低。分代收集的机制是对象存活的时间越久，其不是垃圾的可能性越大。Python将对象分为三代，2代的经历一定次数的考验没有被回收，就归入1代，同理1代的对象也可以归入0代。然后，0代的对象数超过一定的阈值，就会触发0,1,2代中对象的清理，1代个数超限触发1，2代清理，2代个数超限只会触发2代清理"
   ]
  },
  {
   "cell_type": "markdown",
   "metadata": {},
   "source": [
    "- 5.迭代器与生成器有什么相似与不同的地方？"
   ]
  },
  {
   "cell_type": "code",
   "execution_count": null,
   "metadata": {},
   "outputs": [],
   "source": []
  },
  {
   "cell_type": "markdown",
   "metadata": {},
   "source": [
    "- 6.简述您对Python语言中的名字空间的认识？"
   ]
  },
  {
   "cell_type": "code",
   "execution_count": null,
   "metadata": {},
   "outputs": [],
   "source": []
  },
  {
   "cell_type": "markdown",
   "metadata": {},
   "source": [
    "#### 编程题"
   ]
  },
  {
   "cell_type": "markdown",
   "metadata": {},
   "source": [
    "- 7.请对输入三个整数a,b,c,判断能否以它们为三个边长构成三角形。若能，输出YES和面积，否则输出NO"
   ]
  },
  {
   "cell_type": "code",
   "execution_count": null,
   "metadata": {},
   "outputs": [],
   "source": []
  },
  {
   "cell_type": "markdown",
   "metadata": {},
   "source": [
    "- 8.可逆素数是将某素数的各位数字顺序颠倒后仍为素数的数，请编程并输出200以内的可逆素数"
   ]
  },
  {
   "cell_type": "code",
   "execution_count": null,
   "metadata": {},
   "outputs": [],
   "source": []
  }
 ],
 "metadata": {
  "kernelspec": {
   "display_name": "Python 3",
   "language": "python",
   "name": "python3"
  },
  "language_info": {
   "codemirror_mode": {
    "name": "ipython",
    "version": 3
   },
   "file_extension": ".py",
   "mimetype": "text/x-python",
   "name": "python",
   "nbconvert_exporter": "python",
   "pygments_lexer": "ipython3",
   "version": "3.6.7"
  }
 },
 "nbformat": 4,
 "nbformat_minor": 2
}
